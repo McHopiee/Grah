{
 "cells": [
  {
   "cell_type": "raw",
   "metadata": {
    "vscode": {
     "languageId": "raw"
    }
   },
   "source": [
    "---\n",
    "layout: post\n",
    "title: Self Review\n",
    "description: Self review of the five points needed for the final. \n",
    "categories: [Personal]\n",
    "permalink: /personal/selfreview\n",
    "type: collab\n",
    "comments: true\n",
    "---"
   ]
  },
  {
   "cell_type": "markdown",
   "metadata": {},
   "source": [
    "## 5 Key Things \n",
    "\n",
    "#### Personal Grade ( Out of 1 ):\n",
    "For this section of the final grade, I would give myself a 0.90/1. I completed what was needed with explanations of the five key things that I learned in CSSE1. I kept it pretty brief for each point and will continue to summarize it as to not take too much time in the final review."
   ]
  },
  {
   "cell_type": "markdown",
   "metadata": {},
   "source": [
    "## RPG Game Tinkers\n",
    "\n",
    "#### Personal Grade ( Out of 1 ):\n",
    "I would grade myself on this section a 0.91/1. The reason I would give myself a .91/1 is because we included a few more tinkers than required. We also went into depth of what we wanted to do for these tinkers, giving examples of what would show up on the game once we accomplished these tinkers."
   ]
  },
  {
   "cell_type": "markdown",
   "metadata": {},
   "source": [
    "## RPG Game Tinkers Write Up \n",
    "\n",
    "#### Personal Grade ( Out of 1 )\n",
    "Overall, the total grade that I personally thought that I got for the three (five) tinker writeups is a of 0.91/1. I did more than three tinkers and tried my best to explain all of the compenents that went into each tinker, explaining the code and showing that I have an understanding of what I did to accomplish these five tinkers. "
   ]
  },
  {
   "cell_type": "markdown",
   "metadata": {},
   "source": [
    "## Night At The Museum Feedback \n",
    "\n",
    "#### Personal Grade ( Out of 1 )\n",
    "\n",
    "I would personally grade myself a 0.9/1 for the N@tM reviews. We didn't get as many reviews as I would like to, especially from adults and more advanced students, but we managed to recieve reviews from my fellow classmates such as what we could add onto my game and what we lack in. "
   ]
  },
  {
   "cell_type": "markdown",
   "metadata": {},
   "source": [
    "## 5th Point\n",
    "\n",
    "#### Personal Grade ( Out of 1 )\n",
    "I believe that I have accomplished what I needed to do for the final point, earning a .9/1. I have completed the following checklist for the fifth point for the final: \n",
    "\n",
    "- Taking interest in other projects: This is seen in one of my notebooks, 'Other Projects'\n",
    "- Thinking what you could do next in CompSci: Contained in one of my personal notebooks, will briefly look over\n",
    "- Reflection of individual strengths and weaknesses: Contained in one of my personal notebooks, will briefly look over\n",
    "- Reflection on project: Reflection is in a notebook in the Adventure Game category \n",
    "- Sending a summary: Summary was sent on 3/3/2025 during class\n",
    "- Self grade: A small self grade paragraph is at the end of each point, and again in this notebook. "
   ]
  }
 ],
 "metadata": {
  "language_info": {
   "name": "python"
  }
 },
 "nbformat": 4,
 "nbformat_minor": 2
}
