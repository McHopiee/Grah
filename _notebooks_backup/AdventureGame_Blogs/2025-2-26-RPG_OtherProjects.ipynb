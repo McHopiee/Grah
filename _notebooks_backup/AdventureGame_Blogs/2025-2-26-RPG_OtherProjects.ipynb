{
 "cells": [
  {
   "cell_type": "raw",
   "metadata": {},
   "source": [
    "---\n",
    "layout: post\n",
    "title: N@tM Other RPG Projects \n",
    "description: Notes and details on other RPG projects I saw at Night Of The Museum. \n",
    "categories: [Adventure Game]\n",
    "permalink: /RPG/OtherRPGProjects\n",
    "type: collab\n",
    "comments: true\n",
    "---"
   ]
  },
  {
   "cell_type": "markdown",
   "metadata": {},
   "source": [
    "## Game One: West and Evan \n",
    "\n",
    "### Brainrot Game\n",
    "- In the game, the character seems to be able to walk over to a few computers and interact with them, another NPC in the corner of the room is green and walks in place \n",
    "\n",
    "- One of the computers creates a password game, where the player has to put in a password that meets the criteria for them to get into the computer successfully\n",
    "\n",
    "- The background of the game looks like it was made by the creators themselves and the animation on some of the computer screens are most likely created by West and Evan as well \n",
    "\n",
    "- To finish the game, you have to meet the requirements and talk to the final NPC to move on from the game \n",
    "\n",
    "Overall, this game was very good and contained lots of good vibes and creativity. 10/10 game, they were amazing presenters and showed a lot of excitement in their project. They took the little critism they had very well.\n",
    "\n",
    "<img src=\"/images/gamify/brainrot.png\" alt=\"brainrot1\" width=\"200\"/>\n",
    "<img src=\"/images/gamify/brainrot2.png\" alt=\"brainrot2\" width=\"200\"/>"
   ]
  },
  {
   "cell_type": "markdown",
   "metadata": {},
   "source": [
    "## Game Two : Elise and Anishka \n",
    "\n",
    "### Space Adventure Game \n",
    "- There are multiple NPCS around the map, and the game takes place in the middle of space \n",
    "\n",
    "- Each of the NPCS have some something to say each time you walk up to them, and it turns out that if you follow a certain path that the stars are leading you, the final message will tell you how to get out of the level \n",
    "\n",
    "- It was simple but well coded, the thought process must have been pretty hard for this game since the puzzles were not too easy but not too hard. The answers to wach of the puzzles were understandable and the game didn't take too long to complete\n",
    "\n",
    "- Additionally, I thought the NPCS they added were very cute and I loved the aspect where the NPCS spun like stars- the coding that went into the spinning must have taken a while to figure out.\n",
    "\n",
    "10/10 game, it could always use more components if Elise and Anishka had more time to work on the game. I loved this game, it was right up my alley and the simply but well thought coding that went into it is great. \n",
    "\n",
    "<img src=\"/images/gamify/space.png\" alt=\"Space\" width=\"200\"/>"
   ]
  },
  {
   "cell_type": "markdown",
   "metadata": {},
   "source": [
    "## Game Three : Namira and Yasna \n",
    "\n",
    "### Ancient Edgypt \n",
    "\n",
    "- Both creators of the game have slightly different versions of the game, the main idea of the game is for the main character to travel to different time periods, each level being a different time period \n",
    "\n",
    "- While the second level is still in development, Namira is explained that the second level will contain a chase function that will cause the character to be chased in the level \n",
    "\n",
    "- In this game, there are NPCS that can be interacted with. The main NPC seems to be the very first NPC that the the character interacts with \n",
    "\n",
    "- According to Yasna and Namira, you have to interact with a total of two NPCs per level in order to move on \n",
    "\n",
    "This game is cool and well coded in general! I love the creativity that went into the plot of the game, the how the levels progress and the plot of the game. I think there could be more to the game than talking to NPCS, there could be a puzzle involved to make the levels a bit harder, but that's just my opinion. 10/10 game so far!\n",
    "\n",
    "<img src=\"/images/gamify/desert.png\" alt=\"desert\" width=\"200\"/>"
   ]
  },
  {
   "cell_type": "markdown",
   "metadata": {},
   "source": [
    "## Game Four : Yuna and Katherine \n",
    "\n",
    "### Ali's Journey \n",
    "\n",
    "- The main character is named Ali, he sees a sword in a stone in Disneyland and attempts to pull the sword out. He ends up not being able to pull the sword out successfully, so Ali decides to try and buff up himself so he can finally pull the sword out of the stone ( Basic story )\n",
    "\n",
    "- As for the actual game, there are three different weight training sections, using this sections, Ali is able to achieve certain amounts of strength \n",
    "\n",
    "- When he finally reaches his goal strength, his character (character sprite sheet) changes so he appears more buff and strong. Only then is he able to pull the sword out of the stone because he is just so buff and strong.\n",
    "\n",
    "This game has a wonderful storyline and really encourages the player to work hard in order to reach the end of the game! Although the game is unfinished, I can tell that by the game is 'finished' (has an ending) it will be a very good and cute game. 10/10 game, I'm excited to see where it goes."
   ]
  }
 ],
 "metadata": {
  "language_info": {
   "name": "python"
  }
 },
 "nbformat": 4,
 "nbformat_minor": 2
}
