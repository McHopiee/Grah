{
 "cells": [
  {
   "cell_type": "code",
   "execution_count": null,
   "id": "fc76899e",
   "metadata": {
    "vscode": {
     "languageId": "yaml"
    }
   },
   "outputs": [],
   "source": [
    "---\n",
    "toc: false\n",
    "layout: tailwindPost\n",
    "graphStyle: natm\n",
    "infoGraph: finalNATM\n",
    "categories: [Personal]\n",
    "title: CSSE2 Final N@tM\n",
    "description: \"Infographic for CSSE2 Final Project\"\n",
    "type: ccc\n",
    "breadcrumb: true\n",
    "permalink: /Personal/CSSE2FinalInfo\n",
    "sticky_rank: 2\n",
    "---"
   ]
  },
  {
   "cell_type": "markdown",
   "id": "ba72d2e0",
   "metadata": {},
   "source": [
    "{%- include tailwind/natm.html -%}"
   ]
  }
 ],
 "metadata": {
  "language_info": {
   "name": "python"
  }
 },
 "nbformat": 4,
 "nbformat_minor": 5
}
