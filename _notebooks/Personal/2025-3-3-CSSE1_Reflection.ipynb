{
 "cells": [
  {
   "cell_type": "raw",
   "metadata": {
    "vscode": {
     "languageId": "raw"
    }
   },
   "source": [
    "---\n",
    "layout: post\n",
    "title: Reflection \n",
    "description: Reflection of personal work in CSSE1  \n",
    "categories: [Personal]\n",
    "permalink: /personal/reflection\n",
    "type: collab\n",
    "comments: true\n",
    "---"
   ]
  },
  {
   "cell_type": "markdown",
   "metadata": {},
   "source": [
    "### Thinking about the future \n",
    "\n",
    "In CSSE2, I would like to code more games similar to the final project that we worked on in CSSE1. I would like to learn more about coding so we can create more complicated games and continue to add more and more of what we want into the games. I would also like to create different types of games moving on. A platformer game like Mario seems like it would be fun to create and it would be a bit more complicated that the RPG that we worked on here in CSSE1.\n",
    "\n",
    "Moving on, I want to continue high school and finish it taking CSP my junior year and CSA my senior year so I can complete the courses that contain computer science in them. I want to go into a computer science in my college years, my top choice for college at the moment as UCSD."
   ]
  },
  {
   "cell_type": "markdown",
   "metadata": {},
   "source": [
    "### Reflection on Individual Strengths and Weaknesses \n",
    "\n",
    "#### Strengths \n",
    "- Troubleshooting problems in the code, going into the terminal and figuring out what is wrong with the code and understanding what I did wrong and fixing it \n",
    "- Creating intial ideas for code that I want to create. Understanding what I want to do with the code and what I have to do in order to make it \n",
    "- Working with others. When creating the lesson for Classes and Methods, there was little miscommunication when creating the lessons and popcorn hacks and when there was, we fixed it \n",
    "- Giving and recieving feedback when showing projects. At N@tM, I found it interesting to watch others present their game and their code and to give comments and feedback on it.\n",
    "\n",
    "#### Weaknesses \n",
    "- Creating code for an idea that I have. At times, I struggle with creating code for an idea I want to create. Whilst making the game, I found myself often referring back to given pieces of code in order to create my own and having to search up exactly what it does \n",
    "- Explaining what certain pieces of code does in full detail. I found that, in order to present the code that I have written, I have to write out an explanation before presenting it because I struggle with looking at a piece of code and knowing what it does without searching it up \n",
    "- Fixing problems with commits and problems having to do with GitHub. I've found myself not knowing what to do multiple times when my commits aren't working or when my GitHub pages isn't loading."
   ]
  }
 ],
 "metadata": {
  "language_info": {
   "name": "python"
  }
 },
 "nbformat": 4,
 "nbformat_minor": 2
}
