{
 "cells": [
  {
   "cell_type": "code",
   "execution_count": null,
   "id": "f12e69be",
   "metadata": {
    "vscode": {
     "languageId": "yaml"
    }
   },
   "outputs": [],
   "source": [
    "---\n",
    "layout: tailwindPost\n",
    "graphStyle: infographSimple\n",
    "infoGraph: indivwork\n",
    "categories: [Personal]\n",
    "title: Individual Work - AdPlat \n",
    "description: \"Work done on the Adventure/Platformer Game\"\n",
    "type: ccc\n",
    "breadcrumb: true\n",
    "permalink: /personal/IndividualWork\n",
    "---"
   ]
  },
  {
   "cell_type": "markdown",
   "id": "0d83f082",
   "metadata": {},
   "source": [
    "<!-- Infographic - this depends on page.infoGraph frontmatter being set -->\n",
    "{%- include tailwind/infographSimple.html -%}"
   ]
  }
 ],
 "metadata": {
  "language_info": {
   "name": "python"
  }
 },
 "nbformat": 4,
 "nbformat_minor": 5
}
