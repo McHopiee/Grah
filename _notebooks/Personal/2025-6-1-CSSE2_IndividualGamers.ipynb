{
 "cells": [
  {
   "cell_type": "code",
   "execution_count": null,
   "id": "f12e69be",
   "metadata": {
    "vscode": {
     "languageId": "yaml"
    }
   },
   "outputs": [],
   "source": [
    "---\n",
    "layout: tailwindPost\n",
    "graphStyle: infograph\n",
    "infoGraph: indivwork\n",
    "categories: [Personal]\n",
    "title: Individual Work - AdPlat \n",
    "description: \"Work done on the Adventure/Platformer Game\"\n",
    "type: ccc\n",
    "breadcrumb: true\n",
    "permalink: /personal/IndividualWork\n",
    "---"
   ]
  }
 ],
 "metadata": {
  "language_info": {
   "name": "python"
  }
 },
 "nbformat": 4,
 "nbformat_minor": 5
}
