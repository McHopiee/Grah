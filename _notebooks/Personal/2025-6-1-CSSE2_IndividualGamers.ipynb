{
 "cells": [
  {
   "cell_type": "code",
   "execution_count": null,
   "id": "f12e69be",
   "metadata": {
    "vscode": {
     "languageId": "yaml"
    }
   },
   "outputs": [],
   "source": [
    "---\n",
    "toc: false\n",
    "layout: tailwindPost\n",
    "graphStyle: infographSimple\n",
    "infoGraph: indivwork\n",
    "categories: [Personal]\n",
    "title: CSSE2 Final Infographic\n",
    "description: \"Infographic for CSSE2 Final Project\"\n",
    "type: ccc\n",
    "breadcrumb: true\n",
    "permalink: /Personal/CSSE2FinalInfo\n",
    "sticky_rank: 2\n",
    "---"
   ]
  },
  {
   "cell_type": "markdown",
   "id": "9a9fb11b",
   "metadata": {},
   "source": [
    "{%- include tailwind/infographSimple.html -%}"
   ]
  }
 ],
 "metadata": {
  "language_info": {
   "name": "python"
  }
 },
 "nbformat": 4,
 "nbformat_minor": 5
}
