{
 "cells": [
  {
   "cell_type": "raw",
   "metadata": {
    "vscode": {
     "languageId": "raw"
    }
   },
   "source": [
    "---\n",
    "layout: post\n",
    "title: The Big Five \n",
    "description: Five key points that explain and show what I did for the past few weeks of CSSE1\n",
    "categories: [Personal]\n",
    "permalink: /big/five\n",
    "type: collab\n",
    "comments: true\n",
    "---"
   ]
  }
 ],
 "metadata": {
  "language_info": {
   "name": "python"
  }
 },
 "nbformat": 4,
 "nbformat_minor": 2
}
