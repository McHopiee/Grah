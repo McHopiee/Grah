{
 "cells": [
  {
   "cell_type": "code",
   "execution_count": null,
   "id": "5ec41953",
   "metadata": {
    "vscode": {
     "languageId": "yaml"
    }
   },
   "outputs": [],
   "source": [
    "---\n",
    "layout: post\n",
    "title: CSSE2 Final \n",
    "description: Hope's work in CSSE2 in the RPG game and the Platform games\n",
    "categories: [Personal]\n",
    "permalink: /personal/CSSE2-Final/\n",
    "type: collab\n",
    "comments: true\n",
    "---"
   ]
  },
  {
   "cell_type": "markdown",
   "id": "d5788950",
   "metadata": {},
   "source": [
    "{%- include tailwind/infographSimple.html -%}\n",
    "\n",
    "## Collision in Overworld and Water \n",
    "\n",
    "Since these two are very similar, this part will be going over them both. \n",
    "\n",
    "I was responsible for handling the collision on both levels in order for the player and enemies to collide. With the collision, that would lead to the player dying and the level having to be restarted. In our own game level, there is an enemy Creeper walking around the level. Since we wanted something to happen when the player touches (collides) with the Creeper, we created 'enemy.js', which has it's own collision checks. \n",
    "\n",
    "```js \n",
    "update() {\n",
    "    this.draw(); // First, the enemy draws itself\n",
    "    if (!this.playerDestroyed && this.collisionChecks()) {\n",
    "        this.handleCollisionEvent();\n",
    "    }\n",
    "    this.stayWithinCanvas(); // Prevents the enemy from moving outside canvas\n",
    "}\n",
    "```\n",
    "In each frame, the Enemy updates its visuals ``(this.draw())``.\n",
    "\n",
    "Then, if the enemy hasn’t already “killed” the player ``(!this.playerDestroyed)``, it checks for a collision using ``collisionChecks()``.\n",
    "\n",
    "If there’s a collision, it calls ``handleCollisionEvent()``.\n",
    "\n",
    "```js \n",
    "collisionChecks() {\n",
    "    for (const gameObj of this.gameEnv.gameObjects) {\n",
    "        if (gameObj instanceof Player) {\n",
    "            this.isCollision(gameObj);\n",
    "            if (this.collisionData.hit) {\n",
    "                return true;\n",
    "            }\n",
    "        }\n",
    "    }\n",
    "    return false;\n",
    "}\n",
    "```\n",
    "\n",
    "The enemy loops through all game objects in the environment ``(this.gameEnv.gameObjects)``.\n",
    "\n",
    "- If it finds a Player object, it calls ``this.isCollision(gameObj)``.\n",
    "- ``this.isCollision()`` determines whether the bounding boxes of the enemy and the player overlap.\n",
    "- If ``this.collisionData.hit`` is set to true, a collision is confirmed.\n",
    "\n",
    "```js \n",
    "handleCollisionEvent() {\n",
    "    console.log(\"Player collided with the Enemy. Player is dead.\");\n",
    "    this.playerDestroyed = true; // Mark the player as \"dead\"\n",
    "    alert(\"KABOOM!!\");\n",
    "    this.gameEnv.gameControl.currentLevel.restart = true; \n",
    "}\n",
    "```\n",
    "\n",
    "The enemy logs to the console and shows an alert to signal the collision.\n",
    "\n",
    "- It sets ``this.playerDestroyed`` to true (so it doesn’t kill the player repeatedly!).\n",
    "- It sets the current level’s ``restart`` flag to true, signaling the game to restart the level.\n",
    "\n",
    "#### In summary\n",
    "\n",
    "The collision detection is done by calling ``this.isCollision()`` on the Player object, and checking if ``this.collisionData.hit`` is true.\n",
    "The reaction to the collision (like killing the player, triggering level restart, and explosion) is done in ``handleCollisionEvent()``."
   ]
  }
 ],
 "metadata": {
  "language_info": {
   "name": "python"
  }
 },
 "nbformat": 4,
 "nbformat_minor": 5
}
