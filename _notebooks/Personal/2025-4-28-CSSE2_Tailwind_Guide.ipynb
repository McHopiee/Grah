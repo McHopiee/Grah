{
 "cells": [
  {
   "cell_type": "code",
   "execution_count": null,
   "id": "e61a47e5",
   "metadata": {
    "vscode": {
     "languageId": "yaml"
    }
   },
   "outputs": [],
   "source": [
    "---\n",
    "toc: false\n",
    "layout: tailwindPost\n",
    "graphStyle: codeExplain\n",
    "infoGraph: tailwindGuide\n",
    "categories: [Personal]\n",
    "title: Tailwind Guide\n",
    "description: \"Guides and tips on how to make and use Tailwind layouts\"\n",
    "type: ccc\n",
    "breadcrumb: true\n",
    "permalink: /personal/TailwindGuide\n",
    "---"
   ]
  },
  {
   "cell_type": "markdown",
   "id": "55dc9af9",
   "metadata": {},
   "source": [
    "<!-- Infographic - this depends on page.infoGraph frontmatter being set -->\n",
    "{%- include tailwind/codeExplain.html -%}"
   ]
  }
 ],
 "metadata": {
  "language_info": {
   "name": "python"
  }
 },
 "nbformat": 4,
 "nbformat_minor": 5
}
