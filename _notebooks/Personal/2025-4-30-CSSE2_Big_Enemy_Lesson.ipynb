{
 "cells": [
  {
   "cell_type": "code",
   "execution_count": null,
   "id": "c023b32c",
   "metadata": {
    "vscode": {
     "languageId": "yaml"
    }
   },
   "outputs": [],
   "source": [
    "---\n",
    "toc: false\n",
    "layout: tailwindPost\n",
    "categories: [Personal]\n",
    "title: Working Game Enemies \n",
    "description: \"The complete presentation of what we did in our game, with enemy animations and movement.\"\n",
    "type: ccc\n",
    "breadcrumb: true\n",
    "permalink: /personal/gamenemies\n",
    "---\n",
    "  "
   ]
  },
  {
   "cell_type": "markdown",
   "id": "93f613f3",
   "metadata": {},
   "source": [
    "{% assign codeData = site.data.bigenemyMain %}\n",
    "{% include tailwind/codeExplain.html data=codeData %}"
   ]
  },
  {
   "cell_type": "markdown",
   "id": "be5598bc",
   "metadata": {},
   "source": [
    "{% assign moveoneData = site.data.bigenemyMovementOne %}\n",
    "{% include tailwind/explainOne.html data=moveoneData %}"
   ]
  },
  {
   "cell_type": "markdown",
   "id": "320e496c",
   "metadata": {},
   "source": [
    "{% assign movetwoData = site.data.bigenemyMovementTwo %}\n",
    "{% include tailwind/explainCards.html data=movetwoData %}"
   ]
  },
  {
   "cell_type": "markdown",
   "id": "b060295e",
   "metadata": {},
   "source": [
    "{% assign animOneData = site.data.bigenemyAnimationOne %}\n",
    "{% include tailwind/codeExplain.html data=animOneData %}"
   ]
  },
  {
   "cell_type": "markdown",
   "id": "bb301543",
   "metadata": {},
   "source": [
    "{% assign animtwoData = site.data.bigenemyAnimationTwo %}\n",
    "{% include tailwind/explainOne.html data=animtwoData %}"
   ]
  },
  {
   "cell_type": "markdown",
   "id": "90e830c7",
   "metadata": {},
   "source": [
    "{% assign animthreeData = site.data.bigenemyAnimationThree %}\n",
    "{% include tailwind/codeExplain.html data=animthreeData %}"
   ]
  },
  {
   "cell_type": "markdown",
   "id": "8e335425",
   "metadata": {},
   "source": [
    "{% assign colltwoData = site.data.bigenemyCollisionTwo %}\n",
    "{% include tailwind/codeExplain.html data=colltwoData %}"
   ]
  }
 ],
 "metadata": {
  "language_info": {
   "name": "python"
  }
 },
 "nbformat": 4,
 "nbformat_minor": 5
}
