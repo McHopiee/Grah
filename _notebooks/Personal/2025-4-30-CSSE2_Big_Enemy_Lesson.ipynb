{
 "cells": [
  {
   "cell_type": "code",
   "execution_count": null,
   "id": "c023b32c",
   "metadata": {
    "vscode": {
     "languageId": "yaml"
    }
   },
   "outputs": [],
   "source": [
    "---\n",
    "toc: false\n",
    "layout: tailwindPost\n",
    "categories: [Personal]\n",
    "title: Working Game Enemies \n",
    "description: \"The complete presentation of what we did in our game, with enemy animations and movement.\"\n",
    "type: ccc\n",
    "breadcrumb: true\n",
    "permalink: /personal/gamenemies\n",
    "---\n",
    "  "
   ]
  },
  {
   "cell_type": "markdown",
   "id": "39c599e5",
   "metadata": {},
   "source": [
    "{% assign codeData = site.data.bigenemyOne %}\n",
    "{% include tailwind/codeExplain.html data=codeData %}"
   ]
  },
  {
   "cell_type": "markdown",
   "id": "ce5438b7",
   "metadata": {},
   "source": [
    "{% assign simpleData = site.data.enemyAnimation %}\n",
    "{% include tailwind/infographSimple.html data=simpleData %}"
   ]
  }
 ],
 "metadata": {
  "language_info": {
   "name": "python"
  }
 },
 "nbformat": 4,
 "nbformat_minor": 5
}
