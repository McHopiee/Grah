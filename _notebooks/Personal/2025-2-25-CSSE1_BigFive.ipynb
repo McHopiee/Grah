{
 "cells": [
  {
   "cell_type": "raw",
   "metadata": {
    "vscode": {
     "languageId": "raw"
    }
   },
   "source": [
    "---\n",
    "layout: post\n",
    "title: The Big Five \n",
    "description: Five key points that explain and show what I did for the past few weeks of CSSE1\n",
    "categories: [Personal]\n",
    "permalink: /personal/keyfive\n",
    "type: collab\n",
    "comments: true\n",
    "---"
   ]
  },
  {
   "cell_type": "markdown",
   "metadata": {},
   "source": [
    "### Point One : GitHub Introduction \n",
    "\n",
    "In the beginning of this trimester, we needed to create GitHub accounts and repositories in order to get started with our projects. This was my first time using GitHub and in the course of these twelve weeks, I learned more and more about GitHub and where to find certain things. \n",
    "\n",
    "For example, I learned how to clone repositories into VScode in order to edit them. After that, I learned that I could create commits that go straight to the GitHub repository from VScode. \n",
    "\n",
    "Another example was how to find your personal analytics. Going into your profile and understanding what the green boxes mean, showing that you have been commiting and working on projects."
   ]
  },
  {
   "cell_type": "markdown",
   "metadata": {},
   "source": [
    "### Point Two : Classes and Methods Research  \n",
    "\n",
    "Skipping to the middle of this trimester, we were assigned a lesson to teach to the rest of the class. A JavaScript fundamental that we had to study and understand in order to teach the rest of the class. Not only did we come to learn the topic we taught, classes and methods, but we also learned how to grade and create homework for others. \n",
    "\n",
    "We found how to create objects using classes, objects that could be used for making games or for simply making a sentence that can be used in `console.log` to print out a message. "
   ]
  },
  {
   "cell_type": "markdown",
   "metadata": {},
   "source": [
    "### Point Three : Teaching, Grading, and Creating a lesson \n",
    "\n",
    "Along with the actual learning of classes and methods, we had to learn how to teach the lesson, let alone make the lesson in the first place. \n",
    "\n",
    "We had to make the lesson, taking inspiration from past lessons in order to create our own. Not only did we have to make the lesson understandable for others, we had to make it along with each other. The creators of the lessons and the creators of the popcorn hacks had to work with each other in order to make sure the popcorn hacks had something to do with the actual lesson. \n",
    "\n",
    "Then, we had to grade others on their performance on the homework that was given to them. We ran their code in order to see if it works in the first place, then we checked their overall understanding by looking at the code itself."
   ]
  },
  {
   "cell_type": "markdown",
   "metadata": {},
   "source": [
    "### Point Four : Snake Game\n",
    "\n",
    "Our first official game of CSSE1 was the snake game. Similar to the RPG game, we had to make changes to the game in order to personalize it while also understanding what we coded in order for that to happen.\n",
    "\n",
    "A lot of students made special changes to their games. Personally, I changed the color of the background and changed to pngs for the snake and the fruits. I coded a class that contained all the fruits that I wanted to put in the game, them I coded a function that randomized what fruits showed up in the game so that the snake was eating different types of fruits."
   ]
  },
  {
   "cell_type": "markdown",
   "metadata": {},
   "source": [
    "### Point Five : RPG Game and Tinkers \n",
    "\n",
    "Finally, I learned how to create an inital idea for a game I want to code and the 'tinkers' that would go into it. \n",
    "\n",
    "First, we started with a general idea that would start the game then continued working on it using tinkers that we would want to add to the game. An example of a tinker in our game is the special interaction that was created for one of ours NPCs. We wanted an interaction where there would be two answers for a question and the next question the NPC asks would depend on what the player answered with. "
   ]
  },
  {
   "cell_type": "markdown",
   "metadata": {},
   "source": [
    "### Personal Grade ( Out of 1 )\n",
    "\n",
    "For this section of the final grade, I would give myself a 0.90/1. I completed what was needed with explanations of the five key things that I learned in CSSE1. I kept it pretty brief for each point and will continue to summarize it as to not take too much time in the final review."
   ]
  }
 ],
 "metadata": {
  "language_info": {
   "name": "python"
  }
 },
 "nbformat": 4,
 "nbformat_minor": 2
}
