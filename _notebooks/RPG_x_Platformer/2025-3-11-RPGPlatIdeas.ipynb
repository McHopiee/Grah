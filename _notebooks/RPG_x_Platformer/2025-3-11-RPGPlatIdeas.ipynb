{
 "cells": [
  {
   "cell_type": "raw",
   "metadata": {
    "vscode": {
     "languageId": "raw"
    }
   },
   "source": [
    "---\n",
    "layout: post\n",
    "title: MC Game Lesson\n",
    "description: Death animation lesson \n",
    "categories: [RPGxPlatformer]\n",
    "permalink: /rpgplat/lessonone\n",
    "type: collab\n",
    "comments: true\n",
    "---"
   ]
  }
 ],
 "metadata": {
  "language_info": {
   "name": "python"
  }
 },
 "nbformat": 4,
 "nbformat_minor": 2
}
