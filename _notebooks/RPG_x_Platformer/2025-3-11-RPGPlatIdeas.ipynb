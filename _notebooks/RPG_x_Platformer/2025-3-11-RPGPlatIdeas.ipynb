{
 "cells": [
  {
   "cell_type": "raw",
   "metadata": {},
   "source": [
    "---\n",
    "layout: post\n",
    "title: RPG x Platformer Idea\n",
    "description: Notes and ideas for the new game we're making \n",
    "categories: [RPGxPlatformer]\n",
    "permalink: /rpgplat/ideas\n",
    "type: collab\n",
    "comments: true\n",
    "---"
   ]
  }
 ],
 "metadata": {
  "language_info": {
   "name": "python"
  }
 },
 "nbformat": 4,
 "nbformat_minor": 2
}
