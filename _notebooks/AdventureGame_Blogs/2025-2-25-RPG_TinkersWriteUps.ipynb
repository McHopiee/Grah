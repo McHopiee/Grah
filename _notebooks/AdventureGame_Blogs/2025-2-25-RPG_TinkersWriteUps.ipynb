{
 "cells": [
  {
   "cell_type": "raw",
   "metadata": {
    "vscode": {
     "languageId": "raw"
    }
   },
   "source": [
    "---\n",
    "layout: post\n",
    "title: RPG Tinker Write Up\n",
    "description: Reflection of the tinkers that were accomplished, diagram included  \n",
    "categories: [Adventure Game]\n",
    "permalink: /RPG/tinkerWriteUp\n",
    "type: collab\n",
    "comments: true\n",
    "---"
   ]
  }
 ],
 "metadata": {
  "language_info": {
   "name": "python"
  }
 },
 "nbformat": 4,
 "nbformat_minor": 2
}
