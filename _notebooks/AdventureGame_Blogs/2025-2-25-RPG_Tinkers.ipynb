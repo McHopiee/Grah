{
 "cells": [
  {
   "cell_type": "raw",
   "metadata": {
    "vscode": {
     "languageId": "raw"
    }
   },
   "source": [
    "---\n",
    "layout: post\n",
    "title: RPG Tinkers\n",
    "description: Tinkers for the game CSSE students are working on \n",
    "categories: [Adventure Game]\n",
    "permalink: /RPG/tinkers\n",
    "type: collab\n",
    "comments: true\n",
    "---"
   ]
  },
  {
   "cell_type": "markdown",
   "metadata": {},
   "source": [
    "## Tinker One: Changing background and placement of the NPCS\n",
    "\n",
    "#### Changing the background of GameLevelDesert.js: \n",
    "- Find a new background image to replace the current one and put that new image into the images file of this repo\n",
    "- Change the code slightly in GameLevelDesert.js so that the information matches the new image. \n",
    "\n",
    "    ( For example, changing `const image_src_desery = path + \"/images/gamify/desert.png\"` to `const image_src_basement = path + \"/images/gamify/basement.png\"`)\n",
    "    \n",
    "#### Changing the placement of NPCS"
   ]
  },
  {
   "cell_type": "markdown",
   "metadata": {},
   "source": [
    "## Tinker Two: Changing NPC Sprites"
   ]
  },
  {
   "cell_type": "markdown",
   "metadata": {},
   "source": [
    "## Tinker Three: Differing NPC dialogue based on Adevnture Game idea "
   ]
  }
 ],
 "metadata": {
  "language_info": {
   "name": "python"
  }
 },
 "nbformat": 4,
 "nbformat_minor": 2
}
