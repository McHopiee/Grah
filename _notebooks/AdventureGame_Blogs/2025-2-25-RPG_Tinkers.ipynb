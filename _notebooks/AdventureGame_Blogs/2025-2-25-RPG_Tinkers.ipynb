{
 "cells": [
  {
   "cell_type": "raw",
   "metadata": {
    "vscode": {
     "languageId": "raw"
    }
   },
   "source": [
    "---\n",
    "layout: post\n",
    "title: RPG Tinkers\n",
    "description: Tinkers for the game CSSE students are working on \n",
    "categories: [Adventure Game]\n",
    "permalink: /RPG/tinkers\n",
    "type: collab\n",
    "comments: true\n",
    "---"
   ]
  },
  {
   "cell_type": "markdown",
   "metadata": {},
   "source": [
    "## Tinker One: Changing background and placement of the NPCS\n",
    "\n",
    "#### Changing the background of GameLevelDesert.js: \n",
    "- Find a new background image to replace the current one and put that new image into the images file of this repo\n",
    "- Change the code slightly in GameLevelDesert.js so that the information matches the new image. \n",
    "\n",
    "    ( For example, changing `const image_src_desery = path + \"/images/gamify/desert.png\"` to `const image_src_basement = path + \"/images/gamify/basement.png\"`)\n",
    "    \n",
    "#### Changing the placement of NPCS\n",
    "- Figure out what part of the code puts NPCS in certain places and tinker around with it by changing the numbers, seeing how the character move along the x,y axis (or width and height) of the screen\n",
    "\n",
    "- After figuring this out, find where I want to put the NPCS and sation them there, readying them for the player to interact with "
   ]
  },
  {
   "cell_type": "markdown",
   "metadata": {},
   "source": [
    "## Tinker Two: Changing NPC Sprites\n",
    "\n",
    "Instead of having ChillGuy and the other NPCS, I would like to add other characters in place of these ones. In place of the mascots there will instead be three different characters that will take their place. I will import a different sprite sheet for each NPC and edit the configuration they have so the animation for their sprites will be accurate and not weirdly clipped. \n",
    "\n",
    "This will be a little more complicated than changing the background, since I also have to change the info that the code has for the sprite sheet. Since Degen's sprite sheet is a 4x4 instead of a 3x4, I will have to edit the character's configuration for his animation to look right. "
   ]
  },
  {
   "cell_type": "markdown",
   "metadata": {},
   "source": [
    "## Tinker Three: Differing NPC dialogue based on Adevnture Game idea \n",
    "\n",
    "#### Changing the dialogue for Asaka \n",
    "I would like to make it so the player can have an interaction with the NPC instead of taking a quiz, kind of like they're having an actual conversation with the NPC but they can only have to options for answers. For Asaka, I want to make her the one hallucination that is different from the rest, the one part of Degen's imagination that wants to get out.\n",
    "\n",
    "#### Changing the dialogue for Nezuko\n",
    "I'm going to keep the quiz part for Nezuko, my idea for her is that she will start with asking simple math equations that slowly stop making sense and eventually become too complicated to solve or will just become unsolvable overall. This interaction is a point to how the main character is slowly losing his mind.\n",
    "\n",
    "#### Changing the dialogue for Miku\n",
    "As for Miku, she will have an interaction similar to Asaka's but it will be extremely weird and might be uncomfortable. That all caps, UWU type conversation that nobody wants to talk to. Miku is the hallucination that is probably the most unstable, asking random things and saying weird things."
   ]
  },
  {
   "cell_type": "markdown",
   "metadata": {},
   "source": [
    "## Tinker Four: Creating a special interaction for Asaka and/or Miku \n",
    "As said before, I would like to create a special interaction with mainly Asaka and possibily the NPC Miku. Instead of having a quiz, I want them to have a game-like interaction.\n",
    "\n",
    "#### Example:\n",
    "- In Pokemon games, when you talk to some of the main characters, a prompt will appear that will allow you to chose a certain response to a question they ask and what they respond with will depend on which option you chose. I would like to make that type of interaction with Asaka and/or Miku.\n",
    "\n",
    "As explained before, Asaka's interaction will be more serious and may give a hint to the character as a way to get out whilst Miku's interaction will be extremely confusion and a waste of your time."
   ]
  },
  {
   "cell_type": "markdown",
   "metadata": {},
   "source": [
    "## Tinker Five : Creating a way to know how you did on the quiz\n",
    "\n",
    "As for the NPC that will keep the quiz function, Nezuko, I would like to create a way for the player to know how many questions they got right out of ten. It could be an alert at the top of the screen or a whole new function that shows the score of a person.\n",
    "\n",
    "- If a person were to get 8 out of the 10 questions right on the quiz, there could be an alert that pops up on the screen that allows the player to know how they did."
   ]
  }
 ],
 "metadata": {
  "language_info": {
   "name": "python"
  }
 },
 "nbformat": 4,
 "nbformat_minor": 2
}
