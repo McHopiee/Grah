{
 "cells": [
  {
   "cell_type": "raw",
   "metadata": {},
   "source": [
    "---\n",
    "layout: post\n",
    "title: Adventure Game Reflection \n",
    "description: A final reflection on the Adventure Game project.\n",
    "categories: [Adventure Game]\n",
    "permalink: /RPG/reflection\n",
    "type: collab\n",
    "comments: true\n",
    "---"
   ]
  },
  {
   "cell_type": "markdown",
   "metadata": {},
   "source": [
    "### Strengths \n",
    "\n",
    "- Inital ideas that went into the game, having an idea then building it the more time we had to work on the game \n",
    "- A special interaction created in order for a player to get out of the game and reach the ending \n",
    "- Good communication between the two creators of the game. Little miscommunication while both have a good understanding of what the other wants to do with the game \n",
    "- A final 'level' that the character reaches once they exit the first level. Talk to the NPC on the final level, press ESC that officially finishes the game"
   ]
  },
  {
   "cell_type": "markdown",
   "metadata": {},
   "source": [
    "### Weaknesses \n",
    "\n",
    "- Lack of exeptionally creative and well-coded new items in the game. Looking at other projects, I see that they have worked hard on special pop ups that make the game interesting. Such as putting in a specific code in order to get through the level.\n",
    "- The two other NPCS not having much to do with the game. Although our NPCs are all interactable, only one of them has something to do with finishing the game. The other two NPCs seem to be there to waste time or are there for some type of side quest \n",
    "- Simple ending. After players finish the first level, they get transported to another level that has a singular NPC that tells them that they are finished with the game and sends them on their way "
   ]
  },
  {
   "cell_type": "markdown",
   "metadata": {},
   "source": [
    "### Next Steps \n",
    "\n",
    "If we had more time to work on the game, there is no doubt that I would like to add more tinkers to the game to make it more interesting and/or longer. These tinkers are a combination of ideas and feedback that I recieved during N@tM.\n",
    "\n",
    "- Adding an intro to the game. In the beginning of the first level, there should have been an explanation as to what the level is about and how the player ended up there. \n",
    "- Having the two other NPCs do something more than interact with the player. Most other games have all NPCs included in getting out of the level. I would've liked to make it so the NPCs Miku and Nezuko had as much as an impact of getting out of the level as Asaka. \n",
    "- Creating a better, more interesting final level. Instead of having a final lesson where the player talks to the NPC and it simply tells you that you have finished the game, the NPC could do more than that. An idea of what the NPC could do is ask some final questions based on the previous level \n",
    "- More levels in general. If we had more time to work on the game, there would be one or two more levels that would be before the final level. These extra levels could be Degen finally making it to the real world and talking to more NPCs that aren't his imagination "
   ]
  }
 ],
 "metadata": {
  "language_info": {
   "name": "python"
  }
 },
 "nbformat": 4,
 "nbformat_minor": 2
}
