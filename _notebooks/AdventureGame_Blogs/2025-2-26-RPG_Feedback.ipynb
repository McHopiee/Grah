{
 "cells": [
  {
   "cell_type": "raw",
   "metadata": {
    "vscode": {
     "languageId": "raw"
    }
   },
   "source": [
    "---\n",
    "layout: post\n",
    "title: RPG N@tM Feedback\n",
    "description: All the given feedback recieved at Night Of The Museum, 2025, Feburary 26th.\n",
    "categories: [Adventure Game]\n",
    "permalink: /RPG/Feedback\n",
    "type: collab\n",
    "comments: true\n",
    "---"
   ]
  },
  {
   "cell_type": "markdown",
   "metadata": {},
   "source": [
    "## Review One \n",
    "Anishka Sanghvi (CSSE 1) - Your game is really good! I like the interactions with the npcs and the quiz. I would recommend adding specific instructions at the beginning of the game."
   ]
  },
  {
   "cell_type": "markdown",
   "metadata": {},
   "source": [
    "## Review Two \n",
    "Yasna Ahmadi (CSEE 1)\n",
    "\n",
    "I love the visuals and how detailed and entertaining the plot is. The interactions with the NPCs are very funny and they both did a good job with adding personality to the NPCs. Additionally, the code for the different endings is very interesting and the fact that it is fully functional is very impressive as well. Overall, I love the game, the plot, and the storyline. I am very interested in seeing how Hope and Nico add the interaction with the NPC closest to the player. Overall, the code and the game runs very smoothly."
   ]
  },
  {
   "cell_type": "markdown",
   "metadata": {},
   "source": [
    "## Review Three\n",
    "Elise Lin (CSSE 1)\n",
    "\n",
    "I really enjoyed the choose your own adventure and ending aspect! It adds a lot to the plot and I had fun playing it. Maybe you could make it so that you didn't have to press \"e\" again and again, because at first, you might not know what to do or how to continue. Other than that, it's really good! "
   ]
  },
  {
   "cell_type": "markdown",
   "metadata": {},
   "source": [
    "## Review Four \n",
    "\n",
    "Rachit ( TA )\n",
    "\n",
    "I really love the dialogue pathways in your game. very creative. i also just love the general idea of it- i think its very funny and creative; also reminds me of my fav game lolz. honestly i dont think theres a lot for improvement- maybe (if possible) make different end scenes or whatever (like a picture that shows up for each ending) idk i really like kt\n"
   ]
  },
  {
   "cell_type": "markdown",
   "metadata": {},
   "source": [
    "## Anonymous reviews \n",
    "#### ( Reviews of people we couldn't get the name of )\n",
    "\n",
    "#### Anon Review 1\n",
    "I found the way the chat with asuka changed and continued. The game was a little wonky at times, however it seems the game worked mostly as intended. Good job on that!\n",
    "\n",
    "#### Anon Review 2 \n",
    "It’s a cool game and I’m looking forward to the next level\n",
    "\n",
    "#### Anon Review 3\n",
    "I love the animations and the sprites :)\n"
   ]
  },
  {
   "cell_type": "markdown",
   "metadata": {},
   "source": [
    "### Personal Grade ( Out of 1 )\n",
    "\n",
    "I would personally grade myself a 0.9/1 for the N@tM reviews. We didn't get as many reviews as I would like to, especially from adults and more advanced students, but we managed to recieve reviews from my fellow classmates such as what we could add onto my game and what we lack in. "
   ]
  }
 ],
 "metadata": {
  "language_info": {
   "name": "python"
  }
 },
 "nbformat": 4,
 "nbformat_minor": 2
}
