{
 "cells": [
  {
   "cell_type": "raw",
   "metadata": {
    "vscode": {
     "languageId": "raw"
    }
   },
   "source": [
    "---\n",
    "layout: post\n",
    "title: RPG N@tM Feedback\n",
    "description: All the given feedback recieved at Night Of The Museum, 2025, Feburary 26th.\n",
    "categories: [Adventure Game]\n",
    "permalink: /RPG/Feedback\n",
    "type: collab\n",
    "comments: true\n",
    "---"
   ]
  }
 ],
 "metadata": {
  "language_info": {
   "name": "python"
  }
 },
 "nbformat": 4,
 "nbformat_minor": 2
}
