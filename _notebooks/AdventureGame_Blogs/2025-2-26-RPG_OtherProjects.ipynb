{
 "cells": [
  {
   "cell_type": "raw",
   "metadata": {},
   "source": [
    "---\n",
    "layout: post\n",
    "title: N@tM Other RPG Projects \n",
    "description: Notes and details on other RPG projects I saw at Night Of The Museum. \n",
    "categories: [Adventure Game]\n",
    "permalink: /RPG/OtherRPGProjects\n",
    "type: collab\n",
    "comments: true\n",
    "---"
   ]
  },
  {
   "cell_type": "markdown",
   "metadata": {},
   "source": [
    "## Game One: West and Evan \n",
    "\n",
    "### Brainrot Game\n",
    "- In the game, the character seems to be able to walk over to a few computers and interact with them, another NPC in the corner of the room is green and walks in place \n",
    "\n",
    "- One of the computers creates a password game, where the player has to put in a password that meets the criteria for them to get into the computer successfully\n",
    "\n",
    "- The background of the game looks like it was made by the creators themselves and the animation on some of the computer screens are most likely created by West and Evan as well \n",
    "\n",
    "- To finish the game, you have to meet the requirements and talk to the final NPC to move on from the game \n",
    "\n",
    "Overall, this game was very good and contained lots of good vibes and creativity. 10/10 game, they were amazing presenters and showed a lot of excitement in their project. They took the little critism they had very well."
   ]
  }
 ],
 "metadata": {
  "language_info": {
   "name": "python"
  }
 },
 "nbformat": 4,
 "nbformat_minor": 2
}
