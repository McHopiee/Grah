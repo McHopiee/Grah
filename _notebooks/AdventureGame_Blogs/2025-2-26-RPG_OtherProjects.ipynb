{
 "cells": [
  {
   "cell_type": "raw",
   "metadata": {},
   "source": [
    "---\n",
    "layout: post\n",
    "title: N@tM Other RPG Projects \n",
    "description: Notes and details on other RPG projects I saw at Night Of The Museum. \n",
    "categories: [Adventure Game]\n",
    "permalink: /RPG/OtherRPGProjects\n",
    "type: collab\n",
    "comments: true\n",
    "---"
   ]
  }
 ],
 "metadata": {
  "language_info": {
   "name": "python"
  }
 },
 "nbformat": 4,
 "nbformat_minor": 2
}
